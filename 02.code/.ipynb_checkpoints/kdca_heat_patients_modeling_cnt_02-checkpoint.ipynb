{
 "cells": [
  {
   "cell_type": "code",
   "execution_count": 1,
   "metadata": {},
   "outputs": [],
   "source": [
    "import pandas as pd\n",
    "import numpy as np\n",
    "pd.set_option('display.max_rows', None)\n",
    "pd.set_option('display.max_columns', None)\n",
    "\n",
    "import matplotlib.pyplot as plt\n",
    "import seaborn as sns\n",
    "\n",
    "from sklearn.preprocessing import MinMaxScaler, StandardScaler, RobustScaler, Normalizer\n",
    "from sklearn.model_selection import train_test_split\n",
    "from sklearn.model_selection import TimeSeriesSplit\n",
    "from sklearn.metrics import mean_squared_error, mean_absolute_error, r2_score"
   ]
  },
  {
   "cell_type": "code",
   "execution_count": 2,
   "metadata": {},
   "outputs": [],
   "source": [
    "from keras.models import Sequential\n",
    "from keras.layers import SimpleRNN, Dense\n",
    "\n",
    "from keras.models import Sequential\n",
    "from keras.layers import LSTM, Dense\n",
    "from sklearn.tree import DecisionTreeRegressor\n",
    "from sklearn.ensemble import RandomForestRegressor\n",
    "from sklearn.metrics import mean_squared_error\n",
    "\n",
    "from xgboost import XGBRegressor"
   ]
  },
  {
   "cell_type": "markdown",
   "metadata": {},
   "source": [
    "### Feature Selection\n",
    "    - Feature Importance\n",
    "    - Drop-Column Importance\n",
    "    - Permutation Importance"
   ]
  },
  {
   "cell_type": "markdown",
   "metadata": {},
   "source": [
    "## Top15 Select"
   ]
  },
  {
   "cell_type": "code",
   "execution_count": null,
   "metadata": {},
   "outputs": [],
   "source": [
    "path='/home/hwchoi/001.project/data/T_PATIENTS_DAILY_WHOLE_0731.csv'\n",
    "df=pd.read_csv(path)\n",
    "df.head(2)"
   ]
  },
  {
   "cell_type": "code",
   "execution_count": null,
   "metadata": {},
   "outputs": [],
   "source": [
    "# create_date에 대한 sorting 적용\n",
    "df['create_date'] = pd.to_datetime(df['create_date'])\n",
    "df.sort_values(by='create_date', inplace=True)\n",
    "# 결측치 채우기\n",
    "df = df.fillna(0)"
   ]
  },
  {
   "cell_type": "code",
   "execution_count": null,
   "metadata": {},
   "outputs": [],
   "source": [
    "features=['weekend_yn', 'sido_cd', 'min_ta', 'max_ta', 'mean_ta', 'gap_ta', 'min_tafeel', 'max_tafeel', 'mean_tafeel', 'gap_tafeel', 'min_hm', 'max_hm',\n",
    "       'mean_hm', 'gap_hm', 'min_wbtemp', 'max_wbtemp', 'mean_wbtemp', 'gap_wbtemp', 'min_ws', 'max_ws', 'mean_ws', 'tropical_3days',\n",
    "       'heatwave_temp', 'heatalert_temp', 'ta_min_3days', 'ta_max_3days', 'gap_ta_minmax', 'popular_man', 'popular_woman', 'agriculture_man',\n",
    "       'agriculture_woman', 'ta_min_am', 'ta_max_am', 'ta_mean_am', 'ta_min_pm', 'ta_max_pm', 'ta_mean_pm', 'ta_min_six_am1',\n",
    "       'ta_max_six_am1', 'ta_mean_six_am1', 'ta_min_six_am2', 'ta_max_six_am2',\n",
    "       'ta_mean_six_am2', 'ta_min_six_pm1', 'ta_max_six_pm1', 'ta_mean_six_pm1', 'ta_min_six_pm2', 'ta_max_six_pm2', 'ta_mean_six_pm2']\n",
    "target='patientsCnt'\n",
    "print(len(features))"
   ]
  },
  {
   "cell_type": "code",
   "execution_count": null,
   "metadata": {},
   "outputs": [],
   "source": [
    "# 데이터 스케일링\n",
    "scaler = MinMaxScaler()\n",
    "df[features] = scaler.fit_transform(df[features])\n",
    "\n",
    "# 학습 데이터와 테스트 데이터로 분할\n",
    "X_train, X_test, y_train, y_test = train_test_split(df[features], df[target], test_size=0.2, random_state=11, shuffle=True)"
   ]
  },
  {
   "cell_type": "code",
   "execution_count": null,
   "metadata": {},
   "outputs": [],
   "source": [
    "# RF 모델 빌드\n",
    "rf_model = RandomForestRegressor(n_estimators=100, random_state=11)\n",
    "rf_model.fit(X_train, y_train)\n",
    "\n",
    "# RF 모델\n",
    "rf_predictions = rf_model.predict(X_test)\n",
    "\n",
    "# 특성 중요도 계산\n",
    "feature_importances = rf_model.feature_importances_\n",
    "\n",
    "# 특성 중요도를 데이터프레임으로 정렬\n",
    "importance_df = pd.DataFrame({\n",
    "    'Feature': features,\n",
    "    'Importance': feature_importances\n",
    "}).sort_values(by='Importance', ascending=False)"
   ]
  },
  {
   "cell_type": "code",
   "execution_count": null,
   "metadata": {},
   "outputs": [],
   "source": [
    "# 특성 중요도 시각화\n",
    "plt.figure(figsize=(28, 16))\n",
    "plt.barh(importance_df['Feature'], importance_df['Importance'])\n",
    "plt.title('Feature Importance')\n",
    "plt.xlabel('Importance')\n",
    "plt.ylabel('Feature')\n",
    "plt.gca().invert_yaxis()\n",
    "plt.show()"
   ]
  },
  {
   "cell_type": "code",
   "execution_count": null,
   "metadata": {},
   "outputs": [],
   "source": [
    "# 중요도가 높은 상위 N개의 특성 선택\n",
    "N = 15\n",
    "top_features = importance_df['Feature'].head(N).tolist()\n",
    "# 중요 특성만을 사용하여 모델 재학습\n",
    "X_train_top = X_train[top_features]\n",
    "X_test_top = X_test[top_features]"
   ]
  },
  {
   "cell_type": "markdown",
   "metadata": {},
   "source": [
    "### RandomForest Modeling"
   ]
  },
  {
   "cell_type": "code",
   "execution_count": null,
   "metadata": {},
   "outputs": [],
   "source": [
    "rf_model_top = RandomForestRegressor(n_estimators=100, random_state=11)\n",
    "rf_model_top.fit(X_train_top, y_train)\n",
    "\n",
    "# 예측\n",
    "y_pred_train_rf_top = rf_model_top.predict(X_train_top)\n",
    "y_pred_test_rf_top = rf_model_top.predict(X_test_top)\n",
    "\n",
    "# 평가\n",
    "mae_train_rf_top = mean_absolute_error(y_train, y_pred_train_rf_top)\n",
    "rmse_train_rf_top = np.sqrt(mean_squared_error(y_train, y_pred_train_rf_top))\n",
    "r2_train_rf_top = r2_score(y_train, y_pred_train_rf_top)\n",
    "\n",
    "mae_test_rf_top = mean_absolute_error(y_test, y_pred_test_rf_top)\n",
    "rmse_test_rf_top = np.sqrt(mean_squared_error(y_test, y_pred_test_rf_top))\n",
    "r2_test_rf_top = r2_score(y_test, y_pred_test_rf_top)\n",
    "\n",
    "print(\"Random Forest Regressor with Top Features:\")\n",
    "print(f'Training MAE: {mae_train_rf_top}')\n",
    "print(f'Training RMSE: {rmse_train_rf_top}')\n",
    "print(f'Training R2: {r2_train_rf_top}')\n",
    "print()\n",
    "print(f'Test MAE: {mae_test_rf_top}')\n",
    "print(f'Test RMSE: {rmse_test_rf_top}')\n",
    "print(f'Test R2: {r2_test_rf_top}')"
   ]
  },
  {
   "cell_type": "markdown",
   "metadata": {},
   "source": [
    "### XGBoost Modeling"
   ]
  },
  {
   "cell_type": "code",
   "execution_count": null,
   "metadata": {},
   "outputs": [],
   "source": [
    "xgb_model_top = XGBRegressor(n_estimators=100, learning_rate=0.1,  random_state=11)\n",
    "xgb_model_top.fit(X_train_top, y_train)\n",
    "\n",
    "# 예측\n",
    "y_pred_train_xgb_top = xgb_model_top.predict(X_train_top)\n",
    "y_pred_test_xgb_top = xgb_model_top.predict(X_test_top)\n",
    "\n",
    "# 평가\n",
    "mae_train_xgb_top = mean_absolute_error(y_train, y_pred_train_xgb_top)\n",
    "rmse_train_xgb_top = np.sqrt(mean_squared_error(y_train, y_pred_train_xgb_top))\n",
    "r2_train_xgb_top = r2_score(y_train, y_pred_train_rf_top)\n",
    "\n",
    "mae_test_xgb_top = mean_absolute_error(y_test, y_pred_test_xgb_top)\n",
    "rmse_test_xgb_top = np.sqrt(mean_squared_error(y_test, y_pred_test_xgb_top))\n",
    "r2_test_xgb_top = r2_score(y_test, y_pred_test_xgb_top)\n",
    "\n",
    "print(\"Random Forest Regressor with Top Features:\")\n",
    "print(f'Training MAE: {mae_train_xgb_top}')\n",
    "print(f'Training RMSE: {rmse_train_xgb_top}')\n",
    "print(f'Training R2: {r2_train_xgb_top}')\n",
    "print()\n",
    "print(f'Test MAE: {mae_test_xgb_top}')\n",
    "print(f'Test RMSE: {rmse_test_xgb_top}')\n",
    "print(f'Test R2: {r2_test_xgb_top}')"
   ]
  },
  {
   "cell_type": "code",
   "execution_count": null,
   "metadata": {},
   "outputs": [],
   "source": [
    "# 성능 평가 지표를 리스트로 정리\n",
    "metrics = ['MAE', 'RMSE', 'R^2']\n",
    "rf_values = [mae_test_rf_top, rmse_test_rf_top, r2_test_rf_top]\n",
    "xgb_values = [mae_test_xgb_top, rmse_test_xgb_top, r2_test_xgb_top]\n",
    "\n",
    "# 시각화\n",
    "x = np.arange(len(metrics))  # 각 지표에 대한 레이블 위치\n",
    "width = 0.2  # 막대 너비\n",
    "\n",
    "fig, ax = plt.subplots(figsize=(10, 4))\n",
    "bars1 = ax.bar(x + 0.0 * width, rf_values, width, label='RF', color='yellow')\n",
    "bars2 = ax.bar(x + 1.0 * width, xgb_values, width, label='XGB', color='orange')\n",
    "\n",
    "# 막대 그래프에 값 표시\n",
    "def add_labels(bars):\n",
    "    for bar in bars:\n",
    "        yval = bar.get_height()\n",
    "        ax.text(bar.get_x() + bar.get_width()/2, yval, round(yval, 4), va='bottom', ha='center')\n",
    "\n",
    "add_labels(bars1)\n",
    "add_labels(bars2)\n",
    "\n",
    "# 레이블 및 제목 설정\n",
    "ax.set_xlabel('Metrics')\n",
    "ax.set_ylabel('Values')\n",
    "ax.set_title('Prediction Model Performance Metrics')\n",
    "ax.set_xticks(x)\n",
    "ax.set_xticklabels(metrics)\n",
    "ax.legend()\n",
    "\n",
    "# plt.savefig('Prediction Model Performance Metrics.png')\n",
    "plt.show()"
   ]
  },
  {
   "cell_type": "markdown",
   "metadata": {},
   "source": [
    "## Top10 Select"
   ]
  },
  {
   "cell_type": "markdown",
   "metadata": {},
   "source": [
    "### RandomForest"
   ]
  },
  {
   "cell_type": "code",
   "execution_count": null,
   "metadata": {},
   "outputs": [],
   "source": [
    "path='/home/hwchoi/001.project/data/T_PATIENTS_DAILY_WHOLE_0731.csv'\n",
    "df=pd.read_csv(path)\n",
    "df.head(2)"
   ]
  },
  {
   "cell_type": "code",
   "execution_count": null,
   "metadata": {},
   "outputs": [],
   "source": [
    "# create_date에 대한 sorting 적용\n",
    "df['create_date'] = pd.to_datetime(df['create_date'])\n",
    "df.sort_values(by='create_date', inplace=True)\n",
    "# 결측치 채우기\n",
    "df = df.fillna(0)"
   ]
  },
  {
   "cell_type": "code",
   "execution_count": null,
   "metadata": {},
   "outputs": [],
   "source": [
    "features=['weekend_yn', 'sido_cd', 'min_ta', 'max_ta', 'mean_ta', 'gap_ta', 'min_tafeel', 'max_tafeel', 'mean_tafeel', 'gap_tafeel', 'min_hm', 'max_hm',\n",
    "       'mean_hm', 'gap_hm', 'min_wbtemp', 'max_wbtemp', 'mean_wbtemp', 'gap_wbtemp', 'min_ws', 'max_ws', 'mean_ws', 'tropical_3days',\n",
    "       'heatwave_temp', 'heatalert_temp', 'ta_min_3days', 'ta_max_3days', 'gap_ta_minmax', 'popular_man', 'popular_woman', 'agriculture_man',\n",
    "       'agriculture_woman', 'ta_min_am', 'ta_max_am', 'ta_mean_am', 'ta_min_pm', 'ta_max_pm', 'ta_mean_pm', 'ta_min_six_am1',\n",
    "       'ta_max_six_am1', 'ta_mean_six_am1', 'ta_min_six_am2', 'ta_max_six_am2',\n",
    "       'ta_mean_six_am2', 'ta_min_six_pm1', 'ta_max_six_pm1', 'ta_mean_six_pm1', 'ta_min_six_pm2', 'ta_max_six_pm2', 'ta_mean_six_pm2']\n",
    "target='patientsCnt'\n",
    "print(len(features))"
   ]
  },
  {
   "cell_type": "code",
   "execution_count": null,
   "metadata": {},
   "outputs": [],
   "source": [
    "# 데이터 스케일링\n",
    "scaler = MinMaxScaler()\n",
    "df[features] = scaler.fit_transform(df[features])\n",
    "\n",
    "# 학습 데이터와 테스트 데이터로 분할\n",
    "X_train, X_test, y_train, y_test = train_test_split(df[features], df[target], test_size=0.2, random_state=11, shuffle=True)"
   ]
  },
  {
   "cell_type": "code",
   "execution_count": null,
   "metadata": {},
   "outputs": [],
   "source": [
    "# RF 모델 빌드\n",
    "rf_model = RandomForestRegressor(n_estimators=100, random_state=11)\n",
    "rf_model.fit(X_train, y_train)\n",
    "\n",
    "# RF 모델\n",
    "rf_predictions = rf_model.predict(X_test)\n",
    "\n",
    "# 특성 중요도 계산\n",
    "feature_importances = rf_model.feature_importances_\n",
    "\n",
    "# 특성 중요도를 데이터프레임으로 정렬\n",
    "importance_df = pd.DataFrame({\n",
    "    'Feature': features,\n",
    "    'Importance': feature_importances\n",
    "}).sort_values(by='Importance', ascending=False)"
   ]
  },
  {
   "cell_type": "code",
   "execution_count": null,
   "metadata": {},
   "outputs": [],
   "source": [
    "# 중요도가 높은 상위 N개의 특성 선택\n",
    "N = 10\n",
    "top_features = importance_df['Feature'].head(N).tolist()\n",
    "# 중요 특성만을 사용하여 모델 재학습\n",
    "X_train_top_10 = X_train[top_features]\n",
    "X_test_top_10 = X_test[top_features]"
   ]
  },
  {
   "cell_type": "code",
   "execution_count": null,
   "metadata": {},
   "outputs": [],
   "source": [
    "rf_model_top = RandomForestRegressor(n_estimators=100, random_state=11)\n",
    "rf_model_top.fit(X_train_top_10, y_train)\n",
    "\n",
    "# 예측\n",
    "y_pred_train_rf_top = rf_model_top.predict(X_train_top_10)\n",
    "y_pred_test_rf_top = rf_model_top.predict(X_test_top_10)\n",
    "\n",
    "# 평가\n",
    "mae_train_rf_top = mean_absolute_error(y_train, y_pred_train_rf_top)\n",
    "rmse_train_rf_top = np.sqrt(mean_squared_error(y_train, y_pred_train_rf_top))\n",
    "r2_train_rf_top = r2_score(y_train, y_pred_train_rf_top)\n",
    "\n",
    "mae_test_rf_top = mean_absolute_error(y_test, y_pred_test_rf_top)\n",
    "rmse_test_rf_top = np.sqrt(mean_squared_error(y_test, y_pred_test_rf_top))\n",
    "r2_test_rf_top = r2_score(y_test, y_pred_test_rf_top)\n",
    "\n",
    "print(\"Random Forest Regressor with Top Features:\")\n",
    "print(f'Training MAE: {mae_train_rf_top}')\n",
    "print(f'Training RMSE: {rmse_train_rf_top}')\n",
    "print(f'Training R2: {r2_train_rf_top}')\n",
    "print()\n",
    "print(f'Test MAE: {mae_test_rf_top}')\n",
    "print(f'Test RMSE: {rmse_test_rf_top}')\n",
    "print(f'Test R2: {r2_test_rf_top}')"
   ]
  },
  {
   "cell_type": "markdown",
   "metadata": {},
   "source": [
    "### XGBoost"
   ]
  },
  {
   "cell_type": "code",
   "execution_count": null,
   "metadata": {},
   "outputs": [],
   "source": [
    "xgb_model_top = XGBRegressor(n_estimators=100, learning_rate=0.1,  random_state=11)\n",
    "xgb_model_top.fit(X_train_top, y_train)\n",
    "\n",
    "# 예측\n",
    "y_pred_train_xgb_top = xgb_model_top.predict(X_train_top_10)\n",
    "y_pred_test_xgb_top = xgb_model_top.predict(X_test_top_10)\n",
    "\n",
    "# 평가\n",
    "mae_train_xgb_top = mean_absolute_error(y_train, y_pred_train_xgb_top)\n",
    "rmse_train_xgb_top = np.sqrt(mean_squared_error(y_train, y_pred_train_xgb_top))\n",
    "r2_train_xgb_top = r2_score(y_train, y_pred_train_rf_top)\n",
    "\n",
    "mae_test_xgb_top = mean_absolute_error(y_test, y_pred_test_xgb_top)\n",
    "rmse_test_xgb_top = np.sqrt(mean_squared_error(y_test, y_pred_test_xgb_top))\n",
    "r2_test_xgb_top = r2_score(y_test, y_pred_test_xgb_top)\n",
    "\n",
    "print(\"Random Forest Regressor with Top Features:\")\n",
    "print(f'Training MAE: {mae_train_xgb_top}')\n",
    "print(f'Training RMSE: {rmse_train_xgb_top}')\n",
    "print(f'Training R2: {r2_train_xgb_top}')\n",
    "print()\n",
    "print(f'Test MAE: {mae_test_xgb_top}')\n",
    "print(f'Test RMSE: {rmse_test_xgb_top}')\n",
    "print(f'Test R2: {r2_test_xgb_top}')"
   ]
  }
 ],
 "metadata": {
  "kernelspec": {
   "display_name": "Python 3 (ipykernel)",
   "language": "python",
   "name": "python3"
  },
  "language_info": {
   "codemirror_mode": {
    "name": "ipython",
    "version": 3
   },
   "file_extension": ".py",
   "mimetype": "text/x-python",
   "name": "python",
   "nbconvert_exporter": "python",
   "pygments_lexer": "ipython3",
   "version": "3.8.19"
  }
 },
 "nbformat": 4,
 "nbformat_minor": 4
}
