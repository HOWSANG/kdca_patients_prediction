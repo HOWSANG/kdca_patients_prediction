{
 "cells": [
  {
   "cell_type": "markdown",
   "metadata": {},
   "source": [
    "### 온열질환자 범주별 예측"
   ]
  },
  {
   "cell_type": "code",
   "execution_count": 1,
   "metadata": {},
   "outputs": [],
   "source": [
    "import pandas as pd\n",
    "import numpy as np\n",
    "# pd.set_option('display.max_rows', None)\n",
    "# pd.set_option('display.max_columns', None)\n",
    "\n",
    "import matplotlib.pyplot as plt\n",
    "import seaborn as sns\n",
    "\n",
    "from sklearn.preprocessing import MinMaxScaler, StandardScaler, RobustScaler, Normalizer\n",
    "from sklearn.model_selection import train_test_split\n",
    "from sklearn.model_selection import TimeSeriesSplit\n",
    "from sklearn.metrics import mean_squared_error, mean_absolute_error, r2_score\n",
    "from sklearn.inspection import permutation_importance"
   ]
  },
  {
   "cell_type": "code",
   "execution_count": 2,
   "metadata": {},
   "outputs": [],
   "source": [
    "from keras.models import Sequential\n",
    "from keras.layers import SimpleRNN, Dense\n",
    "\n",
    "from keras.models import Sequential\n",
    "from keras.layers import LSTM, Dense\n",
    "\n",
    "from sklearn.ensemble import RandomForestRegressor\n",
    "from sklearn.metrics import mean_squared_error\n",
    "\n",
    "from xgboost import XGBRegressor"
   ]
  },
  {
   "cell_type": "code",
   "execution_count": 3,
   "metadata": {},
   "outputs": [
    {
     "data": {
      "text/html": [
       "<div>\n",
       "<style scoped>\n",
       "    .dataframe tbody tr th:only-of-type {\n",
       "        vertical-align: middle;\n",
       "    }\n",
       "\n",
       "    .dataframe tbody tr th {\n",
       "        vertical-align: top;\n",
       "    }\n",
       "\n",
       "    .dataframe thead th {\n",
       "        text-align: right;\n",
       "    }\n",
       "</style>\n",
       "<table border=\"1\" class=\"dataframe\">\n",
       "  <thead>\n",
       "    <tr style=\"text-align: right;\">\n",
       "      <th></th>\n",
       "      <th>sido</th>\n",
       "      <th>create_date</th>\n",
       "      <th>sido_cd</th>\n",
       "      <th>weekend_yn</th>\n",
       "      <th>grid_x</th>\n",
       "      <th>grid_y</th>\n",
       "      <th>sat_x</th>\n",
       "      <th>sat_y</th>\n",
       "      <th>min_ta</th>\n",
       "      <th>max_ta</th>\n",
       "      <th>...</th>\n",
       "      <th>ta_mean_six_am2</th>\n",
       "      <th>ta_min_six_pm1</th>\n",
       "      <th>ta_max_six_pm1</th>\n",
       "      <th>ta_mean_six_pm1</th>\n",
       "      <th>ta_min_six_pm2</th>\n",
       "      <th>ta_max_six_pm2</th>\n",
       "      <th>ta_mean_six_pm2</th>\n",
       "      <th>patientsCnt</th>\n",
       "      <th>instDate</th>\n",
       "      <th>updtDate</th>\n",
       "    </tr>\n",
       "  </thead>\n",
       "  <tbody>\n",
       "    <tr>\n",
       "      <th>0</th>\n",
       "      <td>경기도</td>\n",
       "      <td>2014-05-01</td>\n",
       "      <td>31</td>\n",
       "      <td>0</td>\n",
       "      <td>60</td>\n",
       "      <td>120</td>\n",
       "      <td>NaN</td>\n",
       "      <td>NaN</td>\n",
       "      <td>9.6</td>\n",
       "      <td>24.2</td>\n",
       "      <td>...</td>\n",
       "      <td>15</td>\n",
       "      <td>21</td>\n",
       "      <td>24</td>\n",
       "      <td>22</td>\n",
       "      <td>14</td>\n",
       "      <td>21</td>\n",
       "      <td>17</td>\n",
       "      <td>0</td>\n",
       "      <td>2024-07-31</td>\n",
       "      <td>2024-07-31</td>\n",
       "    </tr>\n",
       "    <tr>\n",
       "      <th>1</th>\n",
       "      <td>충청북도</td>\n",
       "      <td>2014-05-01</td>\n",
       "      <td>33</td>\n",
       "      <td>0</td>\n",
       "      <td>69</td>\n",
       "      <td>107</td>\n",
       "      <td>NaN</td>\n",
       "      <td>NaN</td>\n",
       "      <td>10.5</td>\n",
       "      <td>23.7</td>\n",
       "      <td>...</td>\n",
       "      <td>15</td>\n",
       "      <td>21</td>\n",
       "      <td>23</td>\n",
       "      <td>22</td>\n",
       "      <td>15</td>\n",
       "      <td>22</td>\n",
       "      <td>18</td>\n",
       "      <td>0</td>\n",
       "      <td>2024-07-31</td>\n",
       "      <td>2024-07-31</td>\n",
       "    </tr>\n",
       "  </tbody>\n",
       "</table>\n",
       "<p>2 rows × 58 columns</p>\n",
       "</div>"
      ],
      "text/plain": [
       "   sido create_date  sido_cd  weekend_yn  grid_x  grid_y  sat_x  sat_y  \\\n",
       "0   경기도  2014-05-01       31           0      60     120    NaN    NaN   \n",
       "1  충청북도  2014-05-01       33           0      69     107    NaN    NaN   \n",
       "\n",
       "   min_ta  max_ta  ...  ta_mean_six_am2  ta_min_six_pm1  ta_max_six_pm1  \\\n",
       "0     9.6    24.2  ...               15              21              24   \n",
       "1    10.5    23.7  ...               15              21              23   \n",
       "\n",
       "   ta_mean_six_pm1  ta_min_six_pm2  ta_max_six_pm2  ta_mean_six_pm2  \\\n",
       "0               22              14              21               17   \n",
       "1               22              15              22               18   \n",
       "\n",
       "   patientsCnt    instDate    updtDate  \n",
       "0            0  2024-07-31  2024-07-31  \n",
       "1            0  2024-07-31  2024-07-31  \n",
       "\n",
       "[2 rows x 58 columns]"
      ]
     },
     "execution_count": 3,
     "metadata": {},
     "output_type": "execute_result"
    }
   ],
   "source": [
    "path='D:/Work/002.code/jupyterNotebook/data/HEAT_TARGET/T_PATIENTS_DAILY_WHOLE_0731.csv'\n",
    "df_raw=pd.read_csv(path)\n",
    "df_raw.head(2)"
   ]
  },
  {
   "cell_type": "markdown",
   "metadata": {},
   "source": [
    "###  MODELING"
   ]
  },
  {
   "cell_type": "code",
   "execution_count": 4,
   "metadata": {},
   "outputs": [],
   "source": [
    "# create_date에 대한 sorting 적용\n",
    "df_raw['create_date'] = pd.to_datetime(df_raw['create_date'])\n",
    "df_raw.sort_values(by='create_date', inplace=True)\n",
    "# 결측치 채우기\n",
    "df_raw = df_raw.fillna(0)"
   ]
  },
  {
   "cell_type": "code",
   "execution_count": 5,
   "metadata": {},
   "outputs": [
    {
     "name": "stdout",
     "output_type": "stream",
     "text": [
      "49\n"
     ]
    }
   ],
   "source": [
    "features=['weekend_yn', 'sido_cd', 'min_ta', 'max_ta', 'mean_ta', 'gap_ta', 'min_tafeel', 'max_tafeel', 'mean_tafeel', 'gap_tafeel', 'min_hm', 'max_hm',\n",
    "       'mean_hm', 'gap_hm', 'min_wbtemp', 'max_wbtemp', 'mean_wbtemp', 'gap_wbtemp', 'min_ws', 'max_ws', 'mean_ws', 'tropical_3days',\n",
    "       'heatwave_temp', 'heatalert_temp', 'ta_min_3days', 'ta_max_3days', 'gap_ta_minmax', 'popular_man', 'popular_woman', 'agriculture_man',\n",
    "       'agriculture_woman', 'ta_min_am', 'ta_max_am', 'ta_mean_am', 'ta_min_pm', 'ta_max_pm', 'ta_mean_pm', 'ta_min_six_am1',\n",
    "       'ta_max_six_am1', 'ta_mean_six_am1', 'ta_min_six_am2', 'ta_max_six_am2', 'ta_mean_six_am2', 'ta_min_six_pm1', 'ta_max_six_pm1', 'ta_mean_six_pm1', 'ta_min_six_pm2', 'ta_max_six_pm2', 'ta_mean_six_pm2']\n",
    "target='patientsCnt'\n",
    "print(len(features))"
   ]
  },
  {
   "cell_type": "code",
   "execution_count": 4,
   "metadata": {},
   "outputs": [],
   "source": [
    "df_raw['patientsCD'] = np.where(df_raw['patientsCnt'] == 0, 0, 1)"
   ]
  },
  {
   "cell_type": "code",
   "execution_count": 9,
   "metadata": {},
   "outputs": [],
   "source": [
    "# 데이터의 밀도에 따라 자동으로 bin을 설정\n",
    "hist1, bin_edges1 = np.histogram(df_raw['patientsCnt'], bins='auto')"
   ]
  },
  {
   "cell_type": "code",
   "execution_count": 10,
   "metadata": {},
   "outputs": [
    {
     "name": "stdout",
     "output_type": "stream",
     "text": [
      "[24909   779   199    64    22    22     6     0     1     1     3     0\n",
      "     2     0     1     1]\n",
      "[ 0.     4.875  9.75  14.625 19.5   24.375 29.25  34.125 39.    43.875\n",
      " 48.75  53.625 58.5   63.375 68.25  73.125 78.   ]\n"
     ]
    }
   ],
   "source": [
    "print(hist1)\n",
    "print(bin_edges1)"
   ]
  },
  {
   "cell_type": "code",
   "execution_count": null,
   "metadata": {},
   "outputs": [],
   "source": []
  }
 ],
 "metadata": {
  "kernelspec": {
   "display_name": "Python 3 (ipykernel)",
   "language": "python",
   "name": "python3"
  },
  "language_info": {
   "codemirror_mode": {
    "name": "ipython",
    "version": 3
   },
   "file_extension": ".py",
   "mimetype": "text/x-python",
   "name": "python",
   "nbconvert_exporter": "python",
   "pygments_lexer": "ipython3",
   "version": "3.8.19"
  }
 },
 "nbformat": 4,
 "nbformat_minor": 4
}
