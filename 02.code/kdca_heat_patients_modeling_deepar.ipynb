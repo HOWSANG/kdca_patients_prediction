{
 "cells": [
  {
   "cell_type": "code",
   "execution_count": 2,
   "metadata": {},
   "outputs": [
    {
     "ename": "ModuleNotFoundError",
     "evalue": "No module named 'scipy'",
     "output_type": "error",
     "traceback": [
      "\u001b[0;31m---------------------------------------------------------------------------\u001b[0m",
      "\u001b[0;31mModuleNotFoundError\u001b[0m                       Traceback (most recent call last)",
      "Cell \u001b[0;32mIn[2], line 3\u001b[0m\n\u001b[1;32m      1\u001b[0m \u001b[38;5;28;01mimport\u001b[39;00m \u001b[38;5;21;01mpandas\u001b[39;00m \u001b[38;5;28;01mas\u001b[39;00m \u001b[38;5;21;01mpd\u001b[39;00m\n\u001b[1;32m      2\u001b[0m \u001b[38;5;28;01mimport\u001b[39;00m \u001b[38;5;21;01mnumpy\u001b[39;00m \u001b[38;5;28;01mas\u001b[39;00m \u001b[38;5;21;01mnp\u001b[39;00m\n\u001b[0;32m----> 3\u001b[0m \u001b[38;5;28;01mimport\u001b[39;00m \u001b[38;5;21;01mscipy\u001b[39;00m \u001b[38;5;28;01mas\u001b[39;00m \u001b[38;5;21;01msupe\u001b[39;00m\n\u001b[1;32m      5\u001b[0m \u001b[38;5;28;01mimport\u001b[39;00m \u001b[38;5;21;01mseaborn\u001b[39;00m \u001b[38;5;28;01mas\u001b[39;00m \u001b[38;5;21;01msns\u001b[39;00m\n\u001b[1;32m      6\u001b[0m \u001b[38;5;28;01mimport\u001b[39;00m \u001b[38;5;21;01mmatplotlib\u001b[39;00m\u001b[38;5;21;01m.\u001b[39;00m\u001b[38;5;21;01mpyplot\u001b[39;00m \u001b[38;5;28;01mas\u001b[39;00m \u001b[38;5;21;01mplt\u001b[39;00m\n",
      "\u001b[0;31mModuleNotFoundError\u001b[0m: No module named 'scipy'"
     ]
    }
   ],
   "source": [
    "import pandas as pd\n",
    "import numpy as np\n",
    "import scipy as supe\n",
    "\n",
    "import seaborn as sns\n",
    "import matplotlib.pyplot as plt\n",
    "\n",
    "\n",
    "import mxnet as mx\n",
    "from gluonts.dataset.common import ListDataset\n",
    "from gluonts.dataset.field_names import FieldName\n",
    "from gluonts.mx.distribution.neg_binomial import NegativeBinomialOutput\n",
    "from gluonts.torch.model.deepar import DeepAREstimator\n",
    "\n",
    "import warnings\n",
    "warnings.filterwarnings(action='ignore')\n",
    "\n",
    "\n",
    "print(\"MXNet version:\", mx.__version__)\n"
   ]
  },
  {
   "cell_type": "code",
   "execution_count": 7,
   "metadata": {},
   "outputs": [],
   "source": [
    "path='/Users/howsang/Documents/004.Project/000.data/T_PATIENTS_DAILY_WHOLE_0731.csv'\n",
    "df=pd.read_csv(path)"
   ]
  },
  {
   "cell_type": "code",
   "execution_count": 8,
   "metadata": {},
   "outputs": [
    {
     "name": "stdout",
     "output_type": "stream",
     "text": [
      "<class 'pandas.core.frame.DataFrame'>\n",
      "RangeIndex: 26010 entries, 0 to 26009\n",
      "Data columns (total 58 columns):\n",
      " #   Column             Non-Null Count  Dtype  \n",
      "---  ------             --------------  -----  \n",
      " 0   sido               26010 non-null  object \n",
      " 1   create_date        26010 non-null  object \n",
      " 2   sido_cd            26010 non-null  int64  \n",
      " 3   weekend_yn         26010 non-null  int64  \n",
      " 4   grid_x             26010 non-null  int64  \n",
      " 5   grid_y             26010 non-null  int64  \n",
      " 6   sat_x              0 non-null      float64\n",
      " 7   sat_y              0 non-null      float64\n",
      " 8   min_ta             26010 non-null  float64\n",
      " 9   max_ta             26010 non-null  float64\n",
      " 10  mean_ta            26010 non-null  float64\n",
      " 11  gap_ta             26010 non-null  float64\n",
      " 12  min_tafeel         26010 non-null  float64\n",
      " 13  max_tafeel         26010 non-null  float64\n",
      " 14  mean_tafeel        26010 non-null  float64\n",
      " 15  gap_tafeel         26010 non-null  float64\n",
      " 16  min_hm             26010 non-null  float64\n",
      " 17  max_hm             26010 non-null  float64\n",
      " 18  mean_hm            26010 non-null  float64\n",
      " 19  gap_hm             26010 non-null  float64\n",
      " 20  min_wbtemp         26010 non-null  float64\n",
      " 21  max_wbtemp         26010 non-null  float64\n",
      " 22  mean_wbtemp        26010 non-null  float64\n",
      " 23  gap_wbtemp         26010 non-null  float64\n",
      " 24  min_ws             26010 non-null  float64\n",
      " 25  max_ws             26010 non-null  float64\n",
      " 26  mean_ws            26010 non-null  float64\n",
      " 27  tropical_3days     26010 non-null  int64  \n",
      " 28  heatwave_temp      26010 non-null  int64  \n",
      " 29  heatalert_temp     26010 non-null  int64  \n",
      " 30  ta_min_3days       26010 non-null  float64\n",
      " 31  ta_max_3days       26009 non-null  float64\n",
      " 32  gap_ta_minmax      26009 non-null  float64\n",
      " 33  popular_man        26010 non-null  int64  \n",
      " 34  popular_woman      26010 non-null  int64  \n",
      " 35  agriculture_man    26010 non-null  int64  \n",
      " 36  agriculture_woman  26010 non-null  int64  \n",
      " 37  ta_min_am          26010 non-null  int64  \n",
      " 38  ta_max_am          26010 non-null  int64  \n",
      " 39  ta_mean_am         26010 non-null  int64  \n",
      " 40  ta_min_pm          26010 non-null  int64  \n",
      " 41  ta_max_pm          26010 non-null  int64  \n",
      " 42  ta_mean_pm         26010 non-null  int64  \n",
      " 43  ta_min_six_am1     26008 non-null  float64\n",
      " 44  ta_max_six_am1     26008 non-null  float64\n",
      " 45  ta_mean_six_am1    26008 non-null  float64\n",
      " 46  ta_min_six_am2     26010 non-null  int64  \n",
      " 47  ta_max_six_am2     26010 non-null  int64  \n",
      " 48  ta_mean_six_am2    26010 non-null  int64  \n",
      " 49  ta_min_six_pm1     26010 non-null  int64  \n",
      " 50  ta_max_six_pm1     26010 non-null  int64  \n",
      " 51  ta_mean_six_pm1    26010 non-null  int64  \n",
      " 52  ta_min_six_pm2     26010 non-null  int64  \n",
      " 53  ta_max_six_pm2     26010 non-null  int64  \n",
      " 54  ta_mean_six_pm2    26010 non-null  int64  \n",
      " 55  patientsCnt        26010 non-null  int64  \n",
      " 56  instDate           26010 non-null  object \n",
      " 57  updtDate           26010 non-null  object \n",
      "dtypes: float64(27), int64(27), object(4)\n",
      "memory usage: 11.5+ MB\n"
     ]
    }
   ],
   "source": [
    "df.info()"
   ]
  },
  {
   "cell_type": "code",
   "execution_count": 9,
   "metadata": {},
   "outputs": [],
   "source": [
    "# ListDataset 형식으로 변환\n",
    "train_ds = ListDataset(\n",
    "    [{\"start\": df['create_date'].iloc[0], \"target\": df['patientsCnt'].values}],\n",
    "    freq=\"D\"\n",
    ")"
   ]
  },
  {
   "cell_type": "code",
   "execution_count": 10,
   "metadata": {},
   "outputs": [
    {
     "data": {
      "text/plain": [
       "[{'start': Period('2014-05-01', 'D'),\n",
       "  'target': array([0., 0., 0., ..., 0., 0., 0.], dtype=float32)}]"
      ]
     },
     "execution_count": 10,
     "metadata": {},
     "output_type": "execute_result"
    }
   ],
   "source": [
    "train_ds"
   ]
  },
  {
   "cell_type": "markdown",
   "metadata": {},
   "source": [
    "### 모델 학습"
   ]
  },
  {
   "cell_type": "code",
   "execution_count": 12,
   "metadata": {},
   "outputs": [
    {
     "ename": "NameError",
     "evalue": "name 'DeepAREstimator' is not defined",
     "output_type": "error",
     "traceback": [
      "\u001b[0;31m---------------------------------------------------------------------------\u001b[0m",
      "\u001b[0;31mNameError\u001b[0m                                 Traceback (most recent call last)",
      "Cell \u001b[0;32mIn[12], line 1\u001b[0m\n\u001b[0;32m----> 1\u001b[0m estimator \u001b[38;5;241m=\u001b[39m \u001b[43mDeepAREstimator\u001b[49m(\n\u001b[1;32m      2\u001b[0m     freq\u001b[38;5;241m=\u001b[39m\u001b[38;5;124m\"\u001b[39m\u001b[38;5;124mD\u001b[39m\u001b[38;5;124m\"\u001b[39m,\n\u001b[1;32m      3\u001b[0m     prediction_length\u001b[38;5;241m=\u001b[39m\u001b[38;5;241m1\u001b[39m,\n\u001b[1;32m      4\u001b[0m     trainer\u001b[38;5;241m=\u001b[39mTrainer(epochs\u001b[38;5;241m=\u001b[39m\u001b[38;5;241m10\u001b[39m)\n\u001b[1;32m      5\u001b[0m )\n\u001b[1;32m      7\u001b[0m predictor\u001b[38;5;241m=\u001b[39mestimator\u001b[38;5;241m.\u001b[39mtrain(train_ds)\n",
      "\u001b[0;31mNameError\u001b[0m: name 'DeepAREstimator' is not defined"
     ]
    }
   ],
   "source": [
    "estimator = DeepAREstimator(\n",
    "    freq=\"D\",\n",
    "    prediction_length=1,\n",
    "    trainer=Trainer(epochs=10)\n",
    ")\n",
    "\n",
    "predictor=estimator.train(train_ds)"
   ]
  },
  {
   "cell_type": "code",
   "execution_count": null,
   "metadata": {},
   "outputs": [],
   "source": []
  }
 ],
 "metadata": {
  "kernelspec": {
   "display_name": "hwchoi",
   "language": "python",
   "name": "python3"
  },
  "language_info": {
   "codemirror_mode": {
    "name": "ipython",
    "version": 3
   },
   "file_extension": ".py",
   "mimetype": "text/x-python",
   "name": "python",
   "nbconvert_exporter": "python",
   "pygments_lexer": "ipython3",
   "version": "3.8.19"
  }
 },
 "nbformat": 4,
 "nbformat_minor": 2
}
