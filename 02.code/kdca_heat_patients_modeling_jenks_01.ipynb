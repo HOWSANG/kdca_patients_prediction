{
 "cells": [
  {
   "cell_type": "markdown",
   "metadata": {},
   "source": [
    "### 온열질환자 구간에 따른 Classification 모델 생성\n",
    "- 3-dimensional"
   ]
  },
  {
   "cell_type": "code",
   "execution_count": 1,
   "metadata": {},
   "outputs": [],
   "source": [
    "import pandas as pd\n",
    "import numpy as np\n",
    "import seaborn as sns\n",
    "\n",
    "# pd.set_option('display.max_rows', None)\n",
    "# pd.set_option('display.max_columns', None)\n",
    "import os\n",
    "import matplotlib.font_manager as fm\n",
    "import matplotlib.pyplot as plt\n",
    "\n",
    "from sklearn.model_selection import train_test_split\n",
    "from sklearn.feature_selection import mutual_info_classif, SelectPercentile\n",
    "from sklearn.preprocessing import MinMaxScaler, StandardScaler, RobustScaler, Normalizer, LabelEncoder, label_binarize\n",
    "from sklearn.metrics import accuracy_score, precision_score, recall_score, f1_score, confusion_matrix, classification_report, roc_curve, auc\n",
    "from itertools import cycle"
   ]
  },
  {
   "cell_type": "code",
   "execution_count": 2,
   "metadata": {},
   "outputs": [],
   "source": [
    "from sklearn.tree import DecisionTreeClassifier\n",
    "from sklearn.ensemble import RandomForestClassifier\n",
    "from xgboost import XGBClassifier\n",
    "from sklearn.svm import SVC\n",
    "from sklearn.cluster import KMeans\n",
    "from keras.models import Sequential\n",
    "from keras.layers import SimpleRNN, LSTM, Dense\n",
    "\n",
    "from imblearn.under_sampling import RandomUnderSampler"
   ]
  },
  {
   "cell_type": "code",
   "execution_count": 3,
   "metadata": {},
   "outputs": [],
   "source": [
    "# 나눔 폰트 경로 설정\n",
    "# dir = '/data1/E382/hwchoi/00.data/00.preprocessing'\n",
    "dir='C:/Windows/Fonts'\n",
    "font_path = os.path.join(dir, 'NANUMGOTHIC.TTF')\n",
    "# font_path = os.path.join(dir, 'DejaVu Sans')\n",
    "\n",
    "# 폰트 속성 설정\n",
    "fontprop = fm.FontProperties(fname=font_path, size=10)\n",
    "\n",
    "\n",
    "# 폰트 매니저에 폰트 추가\n",
    "fm.fontManager.addfont(font_path)\n",
    "\n",
    "# Matplotlib 폰트 캐시 파일 삭제 (필요시 사용)\n",
    "cache_dir = os.path.expanduser('~/.cache/matplotlib')\n",
    "font_cache_path = os.path.join(cache_dir, 'fontlist-v330.json')\n",
    "if os.path.exists(font_cache_path):\n",
    "    os.remove(font_cache_path)\n",
    "\n",
    "# 폰트를 matplotlib에 설정\n",
    "plt.rc('font', family=fontprop.get_name())"
   ]
  },
  {
   "cell_type": "markdown",
   "metadata": {},
   "source": [
    "###  MODELING"
   ]
  },
  {
   "cell_type": "markdown",
   "metadata": {},
   "source": [
    "### DecisionTree, RandomForest, XGBoost 데이터 셋 재정리"
   ]
  },
  {
   "cell_type": "code",
   "execution_count": 4,
   "metadata": {},
   "outputs": [
    {
     "data": {
      "text/html": [
       "<div>\n",
       "<style scoped>\n",
       "    .dataframe tbody tr th:only-of-type {\n",
       "        vertical-align: middle;\n",
       "    }\n",
       "\n",
       "    .dataframe tbody tr th {\n",
       "        vertical-align: top;\n",
       "    }\n",
       "\n",
       "    .dataframe thead th {\n",
       "        text-align: right;\n",
       "    }\n",
       "</style>\n",
       "<table border=\"1\" class=\"dataframe\">\n",
       "  <thead>\n",
       "    <tr style=\"text-align: right;\">\n",
       "      <th></th>\n",
       "      <th>sido</th>\n",
       "      <th>create_date</th>\n",
       "      <th>sido_cd</th>\n",
       "      <th>weekend_yn</th>\n",
       "      <th>grid_x</th>\n",
       "      <th>grid_y</th>\n",
       "      <th>sat_x</th>\n",
       "      <th>sat_y</th>\n",
       "      <th>min_ta</th>\n",
       "      <th>max_ta</th>\n",
       "      <th>...</th>\n",
       "      <th>ta_min_six_pm1</th>\n",
       "      <th>ta_max_six_pm1</th>\n",
       "      <th>ta_mean_six_pm1</th>\n",
       "      <th>ta_min_six_pm2</th>\n",
       "      <th>ta_max_six_pm2</th>\n",
       "      <th>ta_mean_six_pm2</th>\n",
       "      <th>patientsCnt</th>\n",
       "      <th>jenks_cluster</th>\n",
       "      <th>instDate</th>\n",
       "      <th>updtDate</th>\n",
       "    </tr>\n",
       "  </thead>\n",
       "  <tbody>\n",
       "    <tr>\n",
       "      <th>0</th>\n",
       "      <td>경기도</td>\n",
       "      <td>2014-05-01</td>\n",
       "      <td>31</td>\n",
       "      <td>0</td>\n",
       "      <td>60</td>\n",
       "      <td>120</td>\n",
       "      <td>0.0</td>\n",
       "      <td>0.0</td>\n",
       "      <td>9.6</td>\n",
       "      <td>24.2</td>\n",
       "      <td>...</td>\n",
       "      <td>21</td>\n",
       "      <td>24</td>\n",
       "      <td>22</td>\n",
       "      <td>14</td>\n",
       "      <td>21</td>\n",
       "      <td>17</td>\n",
       "      <td>0</td>\n",
       "      <td>0</td>\n",
       "      <td>2024-07-31</td>\n",
       "      <td>2024-07-31</td>\n",
       "    </tr>\n",
       "    <tr>\n",
       "      <th>1</th>\n",
       "      <td>충청북도</td>\n",
       "      <td>2014-05-01</td>\n",
       "      <td>33</td>\n",
       "      <td>0</td>\n",
       "      <td>69</td>\n",
       "      <td>107</td>\n",
       "      <td>0.0</td>\n",
       "      <td>0.0</td>\n",
       "      <td>10.5</td>\n",
       "      <td>23.7</td>\n",
       "      <td>...</td>\n",
       "      <td>21</td>\n",
       "      <td>23</td>\n",
       "      <td>22</td>\n",
       "      <td>15</td>\n",
       "      <td>22</td>\n",
       "      <td>18</td>\n",
       "      <td>0</td>\n",
       "      <td>0</td>\n",
       "      <td>2024-07-31</td>\n",
       "      <td>2024-07-31</td>\n",
       "    </tr>\n",
       "  </tbody>\n",
       "</table>\n",
       "<p>2 rows × 59 columns</p>\n",
       "</div>"
      ],
      "text/plain": [
       "   sido create_date  sido_cd  weekend_yn  grid_x  grid_y  sat_x  sat_y  \\\n",
       "0   경기도  2014-05-01       31           0      60     120    0.0    0.0   \n",
       "1  충청북도  2014-05-01       33           0      69     107    0.0    0.0   \n",
       "\n",
       "   min_ta  max_ta  ...  ta_min_six_pm1  ta_max_six_pm1  ta_mean_six_pm1  \\\n",
       "0     9.6    24.2  ...              21              24               22   \n",
       "1    10.5    23.7  ...              21              23               22   \n",
       "\n",
       "   ta_min_six_pm2  ta_max_six_pm2  ta_mean_six_pm2  patientsCnt  \\\n",
       "0              14              21               17            0   \n",
       "1              15              22               18            0   \n",
       "\n",
       "   jenks_cluster    instDate    updtDate  \n",
       "0              0  2024-07-31  2024-07-31  \n",
       "1              0  2024-07-31  2024-07-31  \n",
       "\n",
       "[2 rows x 59 columns]"
      ]
     },
     "execution_count": 4,
     "metadata": {},
     "output_type": "execute_result"
    }
   ],
   "source": [
    "path='D:/Work/002.code/jupyterNotebook/data/HEAT_TARGET/T_PATIENTS_DAILY_WHOLE_0812.csv'\n",
    "df=pd.read_csv(path)\n",
    "df.head(2)"
   ]
  },
  {
   "cell_type": "code",
   "execution_count": null,
   "metadata": {},
   "outputs": [],
   "source": [
    "### 0/1 유무"
   ]
  },
  {
   "cell_type": "code",
   "execution_count": 5,
   "metadata": {},
   "outputs": [
    {
     "data": {
      "text/plain": [
       "jenks_cluster\n",
       "0    19974\n",
       "1     5538\n",
       "2      498\n",
       "dtype: int64"
      ]
     },
     "execution_count": 5,
     "metadata": {},
     "output_type": "execute_result"
    }
   ],
   "source": [
    "df.groupby('jenks_cluster').size()"
   ]
  },
  {
   "cell_type": "code",
   "execution_count": 6,
   "metadata": {},
   "outputs": [],
   "source": [
    "# create_date에 대한 sorting 적용\n",
    "df['create_date'] = pd.to_datetime(df['create_date'])\n",
    "df.sort_values(by='create_date', inplace=True)\n",
    "# 결측치 채우기\n",
    "df = df.fillna(0)"
   ]
  },
  {
   "cell_type": "code",
   "execution_count": 7,
   "metadata": {},
   "outputs": [
    {
     "name": "stdout",
     "output_type": "stream",
     "text": [
      "48\n"
     ]
    }
   ],
   "source": [
    "features=['weekend_yn', 'min_ta', 'max_ta', 'mean_ta', 'gap_ta', 'min_tafeel', 'max_tafeel', 'mean_tafeel', 'gap_tafeel', 'min_hm', 'max_hm', 'mean_hm', 'gap_hm', 'min_wbtemp', 'max_wbtemp', 'mean_wbtemp', 'gap_wbtemp', 'min_ws', 'max_ws', 'mean_ws', 'tropical_3days',\n",
    "       'heatwave_temp', 'heatalert_temp', 'ta_min_3days', 'ta_max_3days', 'gap_ta_minmax', 'popular_man', 'popular_woman', 'agriculture_man', 'agriculture_woman', 'ta_min_am', 'ta_max_am', 'ta_mean_am', 'ta_min_pm', 'ta_max_pm', 'ta_mean_pm', 'ta_min_six_am1',\n",
    "       'ta_max_six_am1', 'ta_mean_six_am1', 'ta_min_six_am2', 'ta_max_six_am2', 'ta_mean_six_am2', 'ta_min_six_pm1', 'ta_max_six_pm1', 'ta_mean_six_pm1', 'ta_min_six_pm2', 'ta_max_six_pm2', 'ta_mean_six_pm2']\n",
    "# features=['max_ta', 'mean_ta', 'max_tafeel', 'ta_max_am', 'ta_max_pm', 'ta_mean_pm', 'ta_max_six_am2', 'ta_min_six_pm1', 'ta_max_six_pm1','ta_mean_six_pm1']\n",
    "target='jenks_cluster'\n",
    "print(len(features))"
   ]
  },
  {
   "cell_type": "code",
   "execution_count": 8,
   "metadata": {},
   "outputs": [],
   "source": [
    "X=df[features]\n",
    "y=df[target]\n",
    "# 언더샘플링 적용\n",
    "undersample = RandomUnderSampler(sampling_strategy='not minority', random_state=42)\n",
    "X_resampled, y_resampled = undersample.fit_resample(X, y)"
   ]
  },
  {
   "cell_type": "code",
   "execution_count": 9,
   "metadata": {},
   "outputs": [],
   "source": [
    "# 기본 모델(RandomForest, XGBoost)\n",
    "# 학습 데이터와 테스트 데이터로 분할\n",
    "# 데이터 스케일링\n",
    "# X_train, X_test, y_train, y_test = train_test_split(X_resampled, y_resampled, test_size=0.2, random_state=11, shuffle=True)\n",
    "X_train, X_test, y_train, y_test = train_test_split(df[features], df[target], test_size=0.2, random_state=11, shuffle=True)\n",
    "\n",
    "scaler = StandardScaler()\n",
    "X_train = scaler.fit_transform(X_train)\n",
    "X_test = scaler.transform(X_test)"
   ]
  },
  {
   "cell_type": "code",
   "execution_count": 16,
   "metadata": {},
   "outputs": [
    {
     "name": "stdout",
     "output_type": "stream",
     "text": [
      "jenks_cluster\n",
      "0    15984\n",
      "1     4431\n",
      "2      393\n",
      "Name: count, dtype: int64\n",
      "jenks_cluster\n",
      "0    3990\n",
      "1    1107\n",
      "2     105\n",
      "Name: count, dtype: int64\n"
     ]
    }
   ],
   "source": [
    "print(y_train.value_counts())\n",
    "print(y_test.value_counts())"
   ]
  },
  {
   "cell_type": "code",
   "execution_count": 12,
   "metadata": {},
   "outputs": [],
   "source": [
    "def plot_confusion_matrix(conf_matrix, model_name, accuracy):\n",
    "    plt.figure(figsize=(10, 7))\n",
    "    sns.heatmap(conf_matrix, annot=True, fmt='d', cmap='Blues')\n",
    "    plt.title(f'{model_name} Confusion Matrix\\nAccuracy: {accuracy:.2f}')\n",
    "    plt.xlabel('Predicted')\n",
    "    plt.ylabel('Actual')\n",
    "    plt.show()"
   ]
  },
  {
   "cell_type": "code",
   "execution_count": 13,
   "metadata": {},
   "outputs": [],
   "source": [
    "performance_list = []\n",
    "num_classes = 3\n",
    "\n",
    "\n",
    "def evaluate_model(model, model_name):\n",
    "    model.fit(X_train, y_train)\n",
    "    y_pred = model.predict(X_test)\n",
    "    \n",
    "    accuracy = accuracy_score(y_test, y_pred)\n",
    "    report = classification_report(y_test, y_pred, output_dict=True, zero_division=1)\n",
    "    confusion = confusion_matrix(y_test, y_pred)\n",
    "    \n",
    "    for cls in range(num_classes):\n",
    "        cls = str(cls)\n",
    "        performance_list.append({\n",
    "            'Model': model_name,\n",
    "            'Class': cls,\n",
    "            'Accuracy': accuracy,\n",
    "            'Precision': report[cls]['precision'],\n",
    "            'Recall': report[cls]['recall'],\n",
    "            'F1-Score': report[cls]['f1-score'],\n",
    "            'Support': report[cls]['support']\n",
    "        })\n",
    "    \n",
    "    plot_confusion_matrix(confusion, model_name, accuracy)"
   ]
  },
  {
   "cell_type": "code",
   "execution_count": 14,
   "metadata": {},
   "outputs": [],
   "source": [
    "# Decision Tree \n",
    "# dt_classifier = DecisionTreeClassifier(random_state=11)\n",
    "# evaluate_model(dt_classifier, 'Decision Tree')"
   ]
  },
  {
   "cell_type": "code",
   "execution_count": 15,
   "metadata": {},
   "outputs": [
    {
     "data": {
      "image/png": "[encoded data removed]",
      "text/plain": [
       "<Figure size 1000x700 with 2 Axes>"
      ]
     },
     "metadata": {},
     "output_type": "display_data"
    }
   ],
   "source": [
    "# Random Forest\n",
    "rf_classifier = RandomForestClassifier(n_estimators=60, random_state=11)\n",
    "evaluate_model(rf_classifier, 'Random Forest')"
   ]
  },
  {
   "cell_type": "code",
   "execution_count": 16,
   "metadata": {},
   "outputs": [],
   "source": [
    "# SVM\n",
    "# svm_classifier = SVC(kernel='linear', random_state=11)\n",
    "# evaluate_model(svm_classifier, 'SVM')"
   ]
  },
  {
   "cell_type": "code",
   "execution_count": 17,
   "metadata": {},
   "outputs": [
    {
     "data": {
      "image/png": "[encoded data removed]",
      "text/plain": [
       "<Figure size 1000x700 with 2 Axes>"
      ]
     },
     "metadata": {},
     "output_type": "display_data"
    }
   ],
   "source": [
    "# XGBoost\n",
    "xgb_classifier = XGBClassifier(eval_metric='logloss', random_state=11)\n",
    "evaluate_model(xgb_classifier, 'XGBoost')"
   ]
  },
  {
   "cell_type": "code",
   "execution_count": 18,
   "metadata": {},
   "outputs": [
    {
     "name": "stdout",
     "output_type": "stream",
     "text": [
      "           Model Class  Accuracy  Precision    Recall  F1-Score  Support\n",
      "0  Random Forest     0  0.809365   0.834951  0.796296  0.815166    108.0\n",
      "1  Random Forest     1  0.809365   0.692308  0.684783  0.688525     92.0\n",
      "2  Random Forest     2  0.809365   0.885714  0.939394  0.911765     99.0\n",
      "3        XGBoost     0  0.799331   0.828283  0.759259  0.792271    108.0\n",
      "4        XGBoost     1  0.799331   0.673913  0.673913  0.673913     92.0\n",
      "5        XGBoost     2  0.799331   0.879630  0.959596  0.917874     99.0\n"
     ]
    }
   ],
   "source": [
    "# 성능 데이터프레임 생성\n",
    "performance_df = pd.DataFrame(performance_list)\n",
    "print(performance_df)"
   ]
  },
  {
   "cell_type": "code",
   "execution_count": 16,
   "metadata": {},
   "outputs": [],
   "source": [
    "# performance_df.to_csv('D:/Work/001.project/003.kdca/004.실험/performance_jenkins_v03.csv', index=False, encoding='utf-8-sig')"
   ]
  },
  {
   "cell_type": "markdown",
   "metadata": {},
   "source": [
    "### Mutual information"
   ]
  },
  {
   "cell_type": "code",
   "execution_count": 9,
   "metadata": {},
   "outputs": [
    {
     "name": "stdout",
     "output_type": "stream",
     "text": [
      "Selected Features: Index(['max_ta', 'mean_ta', 'max_tafeel', 'ta_max_am', 'ta_max_pm',\n",
      "       'ta_mean_pm', 'ta_max_six_am2', 'ta_min_six_pm1', 'ta_max_six_pm1',\n",
      "       'ta_mean_six_pm1'],\n",
      "      dtype='object')\n",
      "Mutual Information Scores: [0.20630383 0.20564395 0.21705075 0.20703047 0.204475   0.21438463\n",
      " 0.20820337 0.20436336 0.20574171 0.21115128]\n"
     ]
    }
   ],
   "source": [
    "# 멀티 분류 문제에서 상호 정보량 계산\n",
    "X=df[features]\n",
    "y=df[target]\n",
    "# 회귀 문제에서 상호 정보량 계산\n",
    "\n",
    "# Mutual Information 계산\n",
    "mi_scores = mutual_info_classif(X, y)\n",
    "\n",
    "# SelectPercentile을 사용하여 상위 20%의 피처 선택\n",
    "selector = SelectPercentile(mutual_info_classif, percentile=20)\n",
    "X_selected = selector.fit_transform(X, y)\n",
    "\n",
    "# 선택된 피처의 이름 가져오기\n",
    "selected_features = X.columns[selector.get_support()]\n",
    "\n",
    "# 선택된 피처와 점수 출력\n",
    "print(\"Selected Features:\", selected_features)\n",
    "print(\"Mutual Information Scores:\", mi_scores[selector.get_support()])"
   ]
  },
  {
   "cell_type": "code",
   "execution_count": null,
   "metadata": {},
   "outputs": [],
   "source": []
  }
 ],
 "metadata": {
  "kernelspec": {
   "display_name": "Python 3 (ipykernel)",
   "language": "python",
   "name": "python3"
  },
  "language_info": {
   "codemirror_mode": {
    "name": "ipython",
    "version": 3
   },
   "file_extension": ".py",
   "mimetype": "text/x-python",
   "name": "python",
   "nbconvert_exporter": "python",
   "pygments_lexer": "ipython3",
   "version": "3.8.19"
  }
 },
 "nbformat": 4,
 "nbformat_minor": 4
}
