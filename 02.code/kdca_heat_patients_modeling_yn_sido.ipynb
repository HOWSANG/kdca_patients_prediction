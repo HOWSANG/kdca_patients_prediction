{
 "cells": [
  {
   "cell_type": "code",
   "execution_count": 1,
   "metadata": {},
   "outputs": [],
   "source": [
    "import pandas as pd\n",
    "import numpy as np\n",
    "import seaborn as sns\n",
    "\n",
    "from sklearn.preprocessing import MinMaxScaler, StandardScaler, RobustScaler, Normalizer\n",
    "from sklearn.metrics import accuracy_score, recall_score, precision_score, f1_score\n",
    "from sklearn.model_selection import train_test_split\n",
    "import matplotlib.pyplot as plt\n",
    "\n",
    "import statsmodels.api as sm\n",
    "import statsmodels.formula.api as smf\n",
    "from statsmodels.discrete.count_model import ZeroInflatedPoisson"
   ]
  },
  {
   "cell_type": "code",
   "execution_count": 3,
   "metadata": {},
   "outputs": [],
   "source": [
    "from keras.models import Sequential\n",
    "from keras.layers import SimpleRNN, LSTM, Dense\n",
    "from sklearn.linear_model import LogisticRegression\n",
    "from sklearn.ensemble import RandomForestClassifier\n",
    "from sklearn.tree import DecisionTreeClassifier\n",
    "from xgboost import XGBClassifier"
   ]
  },
  {
   "cell_type": "code",
   "execution_count": 3,
   "metadata": {},
   "outputs": [],
   "source": [
    "sequence_length=10\n",
    "# 입력 시퀀스 준비 함수\n",
    "def create_sequences(data, features, target, sequence_length):\n",
    "    X = []\n",
    "    y = []\n",
    "    dates = []\n",
    "    for i in range(len(data) - sequence_length):\n",
    "        X.append(data[features].iloc[i:i+sequence_length].values)\n",
    "        y.append(data[target].iloc[i+sequence_length])\n",
    "        dates.append(data['create_date'].iloc[i+sequence_length])\n",
    "    return np.array(X), np.array(y), np.array(dates)"
   ]
  },
  {
   "cell_type": "markdown",
   "metadata": {},
   "source": [
    "## Classification 기반의 환자예측"
   ]
  },
  {
   "cell_type": "code",
   "execution_count": 4,
   "metadata": {},
   "outputs": [
    {
     "data": {
      "text/html": [
       "<div>\n",
       "<style scoped>\n",
       "    .dataframe tbody tr th:only-of-type {\n",
       "        vertical-align: middle;\n",
       "    }\n",
       "\n",
       "    .dataframe tbody tr th {\n",
       "        vertical-align: top;\n",
       "    }\n",
       "\n",
       "    .dataframe thead th {\n",
       "        text-align: right;\n",
       "    }\n",
       "</style>\n",
       "<table border=\"1\" class=\"dataframe\">\n",
       "  <thead>\n",
       "    <tr style=\"text-align: right;\">\n",
       "      <th></th>\n",
       "      <th>sido</th>\n",
       "      <th>create_date</th>\n",
       "      <th>sido_cd</th>\n",
       "      <th>weekend_yn</th>\n",
       "      <th>grid_x</th>\n",
       "      <th>grid_y</th>\n",
       "      <th>sat_x</th>\n",
       "      <th>sat_y</th>\n",
       "      <th>min_ta</th>\n",
       "      <th>max_ta</th>\n",
       "      <th>...</th>\n",
       "      <th>ta_mean_six_am2</th>\n",
       "      <th>ta_min_six_pm1</th>\n",
       "      <th>ta_max_six_pm1</th>\n",
       "      <th>ta_mean_six_pm1</th>\n",
       "      <th>ta_min_six_pm2</th>\n",
       "      <th>ta_max_six_pm2</th>\n",
       "      <th>ta_mean_six_pm2</th>\n",
       "      <th>patientsCnt</th>\n",
       "      <th>instDate</th>\n",
       "      <th>updtDate</th>\n",
       "    </tr>\n",
       "  </thead>\n",
       "  <tbody>\n",
       "    <tr>\n",
       "      <th>0</th>\n",
       "      <td>경기도</td>\n",
       "      <td>2014-05-01</td>\n",
       "      <td>31</td>\n",
       "      <td>0</td>\n",
       "      <td>60</td>\n",
       "      <td>120</td>\n",
       "      <td>NaN</td>\n",
       "      <td>NaN</td>\n",
       "      <td>9.6</td>\n",
       "      <td>24.2</td>\n",
       "      <td>...</td>\n",
       "      <td>15</td>\n",
       "      <td>21</td>\n",
       "      <td>24</td>\n",
       "      <td>22</td>\n",
       "      <td>14</td>\n",
       "      <td>21</td>\n",
       "      <td>17</td>\n",
       "      <td>0</td>\n",
       "      <td>2024-07-31</td>\n",
       "      <td>2024-07-31</td>\n",
       "    </tr>\n",
       "    <tr>\n",
       "      <th>1</th>\n",
       "      <td>충청북도</td>\n",
       "      <td>2014-05-01</td>\n",
       "      <td>33</td>\n",
       "      <td>0</td>\n",
       "      <td>69</td>\n",
       "      <td>107</td>\n",
       "      <td>NaN</td>\n",
       "      <td>NaN</td>\n",
       "      <td>10.5</td>\n",
       "      <td>23.7</td>\n",
       "      <td>...</td>\n",
       "      <td>15</td>\n",
       "      <td>21</td>\n",
       "      <td>23</td>\n",
       "      <td>22</td>\n",
       "      <td>15</td>\n",
       "      <td>22</td>\n",
       "      <td>18</td>\n",
       "      <td>0</td>\n",
       "      <td>2024-07-31</td>\n",
       "      <td>2024-07-31</td>\n",
       "    </tr>\n",
       "  </tbody>\n",
       "</table>\n",
       "<p>2 rows × 58 columns</p>\n",
       "</div>"
      ],
      "text/plain": [
       "   sido create_date  sido_cd  weekend_yn  grid_x  grid_y  sat_x  sat_y   \n",
       "0   경기도  2014-05-01       31           0      60     120    NaN    NaN  \\\n",
       "1  충청북도  2014-05-01       33           0      69     107    NaN    NaN   \n",
       "\n",
       "   min_ta  max_ta  ...  ta_mean_six_am2  ta_min_six_pm1  ta_max_six_pm1   \n",
       "0     9.6    24.2  ...               15              21              24  \\\n",
       "1    10.5    23.7  ...               15              21              23   \n",
       "\n",
       "   ta_mean_six_pm1  ta_min_six_pm2  ta_max_six_pm2  ta_mean_six_pm2   \n",
       "0               22              14              21               17  \\\n",
       "1               22              15              22               18   \n",
       "\n",
       "   patientsCnt    instDate    updtDate  \n",
       "0            0  2024-07-31  2024-07-31  \n",
       "1            0  2024-07-31  2024-07-31  \n",
       "\n",
       "[2 rows x 58 columns]"
      ]
     },
     "execution_count": 4,
     "metadata": {},
     "output_type": "execute_result"
    }
   ],
   "source": [
    "path='/home/hwchoi/001.project/data/T_PATIENTS_DAILY_WHOLE_0731.csv'\n",
    "df=pd.read_csv(path)\n",
    "df.head(2)"
   ]
  },
  {
   "cell_type": "markdown",
   "metadata": {},
   "source": [
    "#### Create_date 정렬(Sorting) / All feature"
   ]
  },
  {
   "cell_type": "code",
   "execution_count": 5,
   "metadata": {},
   "outputs": [],
   "source": [
    "# create_date에 대한 sorting 적용\n",
    "# 날짜 형식으로 변환 및 필요한 컬럼 선택\n",
    "df['patientsCD'] = np.where(df['patientsCnt'] == 0, 0, 1)\n",
    "df['create_date'] = pd.to_datetime(df['create_date'])\n",
    "df.sort_values(by='create_date', inplace=True)\n",
    "# 결측치 채우기\n",
    "df = df.fillna(0)\n",
    "df['patientsCD'] = df['patientsCD'].astype(int)\n",
    "df['year'] = df['create_date'].dt.year\n",
    "df['month'] = df['create_date'].dt.month\n",
    "df['day'] = df['create_date'].dt.day"
   ]
  },
  {
   "cell_type": "code",
   "execution_count": 6,
   "metadata": {},
   "outputs": [],
   "source": [
    "features=['weekend_yn', 'sido_cd', 'year', 'month', 'day', 'min_ta', 'max_ta', 'mean_ta', 'gap_ta', 'min_tafeel', 'max_tafeel', 'mean_tafeel', 'gap_tafeel', 'min_hm', 'max_hm', 'mean_hm', 'gap_hm', 'min_wbtemp', 'max_wbtemp', 'mean_wbtemp', 'gap_wbtemp', 'min_ws', 'max_ws', 'mean_ws', 'tropical_3days',\n",
    "       'heatwave_temp', 'heatalert_temp', 'ta_min_3days', 'ta_max_3days', 'gap_ta_minmax', 'popular_man', 'popular_woman', 'agriculture_man', 'agriculture_woman', 'ta_min_am', 'ta_max_am', 'ta_mean_am', 'ta_min_pm', 'ta_max_pm', 'ta_mean_pm', 'ta_min_six_am1',\n",
    "       'ta_max_six_am1', 'ta_mean_six_am1', 'ta_min_six_am2', 'ta_max_six_am2', 'ta_mean_six_am2', 'ta_min_six_pm1', 'ta_max_six_pm1', 'ta_mean_six_pm1', 'ta_min_six_pm2', 'ta_max_six_pm2', 'ta_mean_six_pm2']\n",
    "target='patientsCD'"
   ]
  },
  {
   "cell_type": "code",
   "execution_count": 7,
   "metadata": {},
   "outputs": [],
   "source": [
    "# 데이터 스케일링\n",
    "scaler = StandardScaler()\n",
    "df[features] = scaler.fit_transform(df[features])"
   ]
  },
  {
   "cell_type": "code",
   "execution_count": 8,
   "metadata": {},
   "outputs": [],
   "source": [
    "# 학습 데이터와 테스트 데이터로 분할\n",
    "X_train, X_test, y_train, y_test = train_test_split(df[features], df[target], test_size=0.2, random_state=11, shuffle=True)"
   ]
  },
  {
   "cell_type": "code",
   "execution_count": 9,
   "metadata": {},
   "outputs": [
    {
     "name": "stdout",
     "output_type": "stream",
     "text": [
      "Training Accuracy: 0.8652441368704344\n",
      "Training Recall: 0.628731343283582\n",
      "Training Precision: 0.749629263470094\n",
      "Training F1 Score: 0.6838782412626832\n",
      "\n",
      "Test Accuracy: 0.8696655132641292\n",
      "Test Recall: 0.6295379537953796\n",
      "Test Precision: 0.7691532258064516\n",
      "Test F1 Score: 0.6923774954627949\n"
     ]
    }
   ],
   "source": [
    "# 로지스틱 회귀 모델 정의 및 학습\n",
    "model = LogisticRegression(random_state=11)\n",
    "model.fit(X_train, y_train)\n",
    "\n",
    "# 예측\n",
    "y_pred_train = model.predict(X_train)\n",
    "y_pred_test = model.predict(X_test)\n",
    "\n",
    "# 결과 평가\n",
    "accuracy_train = accuracy_score(y_train, y_pred_train)\n",
    "recall_train = recall_score(y_train, y_pred_train)\n",
    "precision_train = precision_score(y_train, y_pred_train)\n",
    "f1_train = f1_score(y_train, y_pred_train)\n",
    "\n",
    "accuracy_test = accuracy_score(y_test, y_pred_test)\n",
    "recall_test = recall_score(y_test, y_pred_test)\n",
    "precision_test = precision_score(y_test, y_pred_test)\n",
    "f1_test = f1_score(y_test, y_pred_test)\n",
    "\n",
    "print(f'Training Accuracy: {accuracy_train}')\n",
    "print(f'Training Recall: {recall_train}')\n",
    "print(f'Training Precision: {precision_train}')\n",
    "print(f'Training F1 Score: {f1_train}')\n",
    "print()\n",
    "print(f'Test Accuracy: {accuracy_test}')\n",
    "print(f'Test Recall: {recall_test}')\n",
    "print(f'Test Precision: {precision_test}')\n",
    "print(f'Test F1 Score: {f1_test}')"
   ]
  },
  {
   "cell_type": "code",
   "execution_count": 10,
   "metadata": {},
   "outputs": [
    {
     "name": "stdout",
     "output_type": "stream",
     "text": [
      "Random Forest:\n",
      "Training Accuracy: 0.9999519415609381\n",
      "Training Recall: 0.9997927031509121\n",
      "Training Precision: 1.0\n",
      "Training F1 Score: 0.9998963408313465\n",
      "\n",
      "Test Accuracy: 0.8698577470203768\n",
      "Test Recall: 0.6039603960396039\n",
      "Test Precision: 0.7879440258342304\n",
      "Test F1 Score: 0.6837926202709015\n"
     ]
    }
   ],
   "source": [
    "# 랜덤 포레스트 모델 정의 및 학습\n",
    "rf_model = RandomForestClassifier(random_state=11)\n",
    "rf_model.fit(X_train, y_train)\n",
    "\n",
    "# 예측\n",
    "y_pred_train_rf = rf_model.predict(X_train)\n",
    "y_pred_test_rf = rf_model.predict(X_test)\n",
    "\n",
    "# 결과 평가\n",
    "accuracy_train_rf = accuracy_score(y_train, y_pred_train_rf)\n",
    "recall_train_rf = recall_score(y_train, y_pred_train_rf)\n",
    "precision_train_rf = precision_score(y_train, y_pred_train_rf)\n",
    "f1_train_rf = f1_score(y_train, y_pred_train_rf)\n",
    "\n",
    "accuracy_test_rf = accuracy_score(y_test, y_pred_test_rf)\n",
    "recall_test_rf = recall_score(y_test, y_pred_test_rf)\n",
    "precision_test_rf = precision_score(y_test, y_pred_test_rf)\n",
    "f1_test_rf = f1_score(y_test, y_pred_test_rf)\n",
    "\n",
    "print(\"Random Forest:\")\n",
    "print(f'Training Accuracy: {accuracy_train_rf}')\n",
    "print(f'Training Recall: {recall_train_rf}')\n",
    "print(f'Training Precision: {precision_train_rf}')\n",
    "print(f'Training F1 Score: {f1_train_rf}')\n",
    "print()\n",
    "print(f'Test Accuracy: {accuracy_test_rf}')\n",
    "print(f'Test Recall: {recall_test_rf}')\n",
    "print(f'Test Precision: {precision_test_rf}')\n",
    "print(f'Test F1 Score: {f1_test_rf}')"
   ]
  },
  {
   "cell_type": "code",
   "execution_count": 11,
   "metadata": {},
   "outputs": [
    {
     "name": "stdout",
     "output_type": "stream",
     "text": [
      "Decision Tree:\n",
      "Training Accuracy: 1.0\n",
      "Training Recall: 1.0\n",
      "Training Precision: 1.0\n",
      "Training F1 Score: 1.0\n",
      "\n",
      "Test Accuracy: 0.8118031526336025\n",
      "Test Recall: 0.5866336633663366\n",
      "Test Precision: 0.5979814970563498\n",
      "Test F1 Score: 0.592253227821741\n"
     ]
    }
   ],
   "source": [
    "from sklearn.tree import DecisionTreeClassifier\n",
    "\n",
    "# 의사결정 나무 모델 정의 및 학습\n",
    "dt_model = DecisionTreeClassifier(random_state=11)\n",
    "dt_model.fit(X_train, y_train)\n",
    "\n",
    "# 예측\n",
    "y_pred_train_dt = dt_model.predict(X_train)\n",
    "y_pred_test_dt = dt_model.predict(X_test)\n",
    "\n",
    "# 결과 평가\n",
    "accuracy_train_dt = accuracy_score(y_train, y_pred_train_dt)\n",
    "recall_train_dt = recall_score(y_train, y_pred_train_dt)\n",
    "precision_train_dt = precision_score(y_train, y_pred_train_dt)\n",
    "f1_train_dt = f1_score(y_train, y_pred_train_dt)\n",
    "\n",
    "accuracy_test_dt = accuracy_score(y_test, y_pred_test_dt)\n",
    "recall_test_dt = recall_score(y_test, y_pred_test_dt)\n",
    "precision_test_dt = precision_score(y_test, y_pred_test_dt)\n",
    "f1_test_dt = f1_score(y_test, y_pred_test_dt)\n",
    "\n",
    "print(\"Decision Tree:\")\n",
    "print(f'Training Accuracy: {accuracy_train_dt}')\n",
    "print(f'Training Recall: {recall_train_dt}')\n",
    "print(f'Training Precision: {precision_train_dt}')\n",
    "print(f'Training F1 Score: {f1_train_dt}')\n",
    "print()\n",
    "print(f'Test Accuracy: {accuracy_test_dt}')\n",
    "print(f'Test Recall: {recall_test_dt}')\n",
    "print(f'Test Precision: {precision_test_dt}')\n",
    "print(f'Test F1 Score: {f1_test_dt}')"
   ]
  },
  {
   "cell_type": "code",
   "execution_count": 13,
   "metadata": {},
   "outputs": [
    {
     "data": {
      "image/png": "[encoded data removed]",
      "text/plain": [
       "<Figure size 1400x1000 with 1 Axes>"
      ]
     },
     "metadata": {},
     "output_type": "display_data"
    }
   ],
   "source": [
    "# 평가지표 데이터프레임 생성\n",
    "metrics_df = pd.DataFrame({\n",
    "    'Model': ['Logistic Regression', 'Random Forest', 'Decision Tree'],\n",
    "    'Train Accuracy': [accuracy_train, accuracy_train_rf, accuracy_train_dt],\n",
    "    'Test Accuracy': [accuracy_test, accuracy_test_rf, accuracy_test_dt],\n",
    "    'Train Recall': [recall_train, recall_train_rf, recall_train_dt],\n",
    "    'Test Recall': [recall_test, recall_test_rf, recall_test_dt],\n",
    "    'Train Precision': [precision_train, precision_train_rf, precision_train_dt],\n",
    "    'Test Precision': [precision_test, precision_test_rf, precision_test_dt],\n",
    "    'Train F1 Score': [f1_train, f1_train_rf, f1_train_dt],\n",
    "    'Test F1 Score': [f1_test, f1_test_rf, f1_test_dt]\n",
    "})\n",
    "\n",
    "# 평가지표 시각화\n",
    "metrics_melted = metrics_df.melt(id_vars='Model', var_name='Metric', value_name='Value')\n",
    "plt.figure(figsize=(14, 10))\n",
    "sns.barplot(x='Metric', y='Value', hue='Model', data=metrics_melted)\n",
    "plt.title('Performance Metrics')\n",
    "plt.xlabel('Metric')\n",
    "plt.ylabel('Value')\n",
    "plt.legend(title='Model')\n",
    "plt.show()"
   ]
  },
  {
   "cell_type": "code",
   "execution_count": null,
   "metadata": {},
   "outputs": [],
   "source": []
  }
 ],
 "metadata": {
  "kernelspec": {
   "display_name": "kdca",
   "language": "python",
   "name": "kdca"
  },
  "language_info": {
   "codemirror_mode": {
    "name": "ipython",
    "version": 3
   },
   "file_extension": ".py",
   "mimetype": "text/x-python",
   "name": "python",
   "nbconvert_exporter": "python",
   "pygments_lexer": "ipython3",
   "version": "3.10.5"
  }
 },
 "nbformat": 4,
 "nbformat_minor": 2
}
